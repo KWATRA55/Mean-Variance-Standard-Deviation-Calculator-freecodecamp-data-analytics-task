{
 "cells": [
  {
   "cell_type": "code",
   "execution_count": 20,
   "source": [
    "import numpy as np\r\n"
   ],
   "outputs": [],
   "metadata": {}
  },
  {
   "cell_type": "code",
   "execution_count": 69,
   "source": [
    "def calculate(x):\r\n",
    "    x = np.array(x)\r\n",
    "    mean = np.sum(x) / (x.shape[0]**2)\r\n",
    "\r\n",
    "    var = np.sum((x - mean)**2)/(x.shape[0]**2)\r\n",
    "\r\n",
    "    sd = var**(1/2)\r\n",
    "\r\n",
    "    print(\"the mean is : \" + np.str(mean))\r\n",
    "    print(\"the variance is : \" + np.str(var.round(1)))\r\n",
    "    print(\"the standard deviation is : \" + np.str(sd.round(1)))\r\n",
    "\r\n",
    "    "
   ],
   "outputs": [],
   "metadata": {}
  },
  {
   "cell_type": "code",
   "execution_count": 70,
   "source": [
    "calculate([[1,2,3],[4,5,6],[7,8,9]])"
   ],
   "outputs": [
    {
     "output_type": "stream",
     "name": "stdout",
     "text": [
      "the mean is : 5.0\n",
      "the variance is : 6.7\n",
      "the standard deviation is : 2.6\n"
     ]
    }
   ],
   "metadata": {}
  },
  {
   "cell_type": "code",
   "execution_count": null,
   "source": [],
   "outputs": [],
   "metadata": {}
  }
 ],
 "metadata": {
  "orig_nbformat": 4,
  "language_info": {
   "name": "python",
   "version": "3.9.5",
   "mimetype": "text/x-python",
   "codemirror_mode": {
    "name": "ipython",
    "version": 3
   },
   "pygments_lexer": "ipython3",
   "nbconvert_exporter": "python",
   "file_extension": ".py"
  },
  "kernelspec": {
   "name": "python3",
   "display_name": "Python 3.9.5 64-bit"
  },
  "interpreter": {
   "hash": "c569cd2e17f62341e0f08a54f9a867c3c0d3a6f67454072d7de41a8b5dff8343"
  }
 },
 "nbformat": 4,
 "nbformat_minor": 2
}